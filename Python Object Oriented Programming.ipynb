{
 "cells": [
  {
   "cell_type": "markdown",
   "metadata": {},
   "source": [
    "# Object Oriented Programing."
   ]
  },
  {
   "cell_type": "markdown",
   "metadata": {},
   "source": [
    "- The main pillars of OOP in python are class, object and reference variable."
   ]
  },
  {
   "cell_type": "markdown",
   "metadata": {},
   "source": [
    "### class\n",
    "- class is a plan which acts as **Blue print or Template** which provides complete information about our objects. \n",
    "\n",
    "### objects\n",
    "- The physical existence of a class is called as **objects**.\n",
    "- Once class is prepared, we can create multiple objects based on same class.\n",
    "\n",
    "### Reference variable\n",
    "- Tool which is used to perform different operations is called as reference variable.\n",
    "- It always points towards the objects, using which we can perform any operations.\n",
    "- This reference variable will be different for different objects."
   ]
  },
  {
   "cell_type": "markdown",
   "metadata": {},
   "source": [
    "### Basic  Examples."
   ]
  },
  {
   "cell_type": "markdown",
   "metadata": {},
   "source": [
    "### class"
   ]
  },
  {
   "cell_type": "code",
   "execution_count": 1,
   "metadata": {},
   "outputs": [],
   "source": [
    "class Student: # Student is class.\n",
    "    def __init__(self, rollno, name):\n",
    "        self.rollno = rollno\n",
    "        self.name = name\n",
    "    def talk(self):\n",
    "        print('Hello my name is:', self.name)\n",
    "        print('My rollno is:', self.rollno)"
   ]
  },
  {
   "cell_type": "markdown",
   "metadata": {},
   "source": [
    "### Object"
   ]
  },
  {
   "cell_type": "code",
   "execution_count": 2,
   "metadata": {},
   "outputs": [
    {
     "name": "stdout",
     "output_type": "stream",
     "text": [
      "sunny\n",
      "100\n"
     ]
    }
   ],
   "source": [
    "# Creating objects.\n",
    "s= Student(100, 'sunny')\n",
    "# 's' is reference variable.\n",
    "# 'Student('sunny', 100)' is object\n",
    "\n",
    "print(s.name)\n",
    "print(s.rollno)"
   ]
  },
  {
   "cell_type": "code",
   "execution_count": 3,
   "metadata": {},
   "outputs": [],
   "source": [
    "s_1= Student(200, 'bunny')\n",
    "s_2 = Student(250,'honey')"
   ]
  },
  {
   "cell_type": "code",
   "execution_count": 4,
   "metadata": {},
   "outputs": [
    {
     "name": "stdout",
     "output_type": "stream",
     "text": [
      "honey\n",
      "200\n"
     ]
    }
   ],
   "source": [
    "print(s_2.name)\n",
    "print(s_1.rollno)"
   ]
  },
  {
   "cell_type": "code",
   "execution_count": 5,
   "metadata": {},
   "outputs": [
    {
     "name": "stdout",
     "output_type": "stream",
     "text": [
      "200\n",
      "Akash\n",
      "75000\n",
      "Bangalore\n"
     ]
    }
   ],
   "source": [
    "class Employee:\n",
    "    '''doc string(description)'''\n",
    "    def __init__(self,enum,ename,esal,eadd):\n",
    "        self.enum = enum\n",
    "        self.ename= ename\n",
    "        self.esal = esal\n",
    "        self.eadd = eadd\n",
    "    def info(self):\n",
    "        print('Employee Number:',enum)\n",
    "        print('Employee Name:',ename)\n",
    "        print('Employee salary:',esal)\n",
    "        print('Employee Address:',eadd)\n",
    "# Creating Objects\n",
    "E_1=Employee(200,'Akash',75000,'Bangalore')\n",
    "print(E_1.enum)\n",
    "print(E_1.ename)\n",
    "print(E_1.esal)\n",
    "print(E_1.eadd)"
   ]
  },
  {
   "cell_type": "code",
   "execution_count": 6,
   "metadata": {},
   "outputs": [
    {
     "name": "stdout",
     "output_type": "stream",
     "text": [
      "300\n",
      "Ahmed\n",
      "85000\n",
      "Chennai\n"
     ]
    }
   ],
   "source": [
    "E_2 = Employee(300,'Ahmed',85000,'Chennai')\n",
    "print(E_2.enum)\n",
    "print(E_2.ename)\n",
    "print(E_2.esal)\n",
    "print(E_2.eadd)"
   ]
  },
  {
   "cell_type": "code",
   "execution_count": 7,
   "metadata": {},
   "outputs": [],
   "source": [
    "#E_1.info()"
   ]
  },
  {
   "cell_type": "markdown",
   "metadata": {},
   "source": [
    "### Documentation String.\n",
    "- It provides information about the class."
   ]
  },
  {
   "cell_type": "code",
   "execution_count": 8,
   "metadata": {},
   "outputs": [
    {
     "name": "stdout",
     "output_type": "stream",
     "text": [
      "This is an Example for class \n",
      "Help on class Student in module __main__:\n",
      "\n",
      "class Student(builtins.object)\n",
      " |  This is an Example for class\n",
      " |  \n",
      " |  Data descriptors defined here:\n",
      " |  \n",
      " |  __dict__\n",
      " |      dictionary for instance variables (if defined)\n",
      " |  \n",
      " |  __weakref__\n",
      " |      list of weak references to the object (if defined)\n",
      "\n"
     ]
    }
   ],
   "source": [
    "class Student:\n",
    "    '''This is an Example for class '''\n",
    "\n",
    "# To access this doc string\n",
    "print(Student.__doc__)\n",
    "\n",
    "# OR\n",
    "\n",
    "help(Student)"
   ]
  },
  {
   "cell_type": "markdown",
   "metadata": {},
   "source": [
    "## Self Variable.\n",
    "- Self variable always points to current **object** .Within python class, to refer current object we should use self variable.\n",
    "- The first argument to the constructor and the instance method should be **'self'**.\n",
    "- Python Virtual Machine is responsible to provide value for the self argument, hence user is not required to provide explicitly.\n",
    "- By using self we can declare instance variables\n",
    "- By using self we can access instance variables \n",
    "- Instead of self we can use any name, but 'self' is recommended to use."
   ]
  },
  {
   "cell_type": "markdown",
   "metadata": {},
   "source": [
    "### Basic Examples for 'self'."
   ]
  },
  {
   "cell_type": "code",
   "execution_count": 9,
   "metadata": {},
   "outputs": [
    {
     "name": "stdout",
     "output_type": "stream",
     "text": [
      "2632418601448\n"
     ]
    }
   ],
   "source": [
    "def __init__(self):# '__init__' is a constructor which executes automatically for the object 's'  \n",
    "    print(id(self))\n",
    "s=Student()\n",
    "print(id(s))"
   ]
  },
  {
   "cell_type": "code",
   "execution_count": 10,
   "metadata": {},
   "outputs": [
    {
     "name": "stdout",
     "output_type": "stream",
     "text": [
      "The name of teacher is: Arvind\n",
      "The age of teacher is: 48\n",
      "The salary of teacher is: 72000\n",
      "None\n",
      "\n",
      "\n",
      "The name of teacher is: Modi\n",
      "The age of teacher is: 78\n",
      "The salary of teacher is: 100000\n",
      "None\n"
     ]
    }
   ],
   "source": [
    "class Teacher:\n",
    "    def __init__(self, t_name, t_age, t_salary):\n",
    "        self.t_name = t_name\n",
    "        self.t_age =t_age\n",
    "        self.t_salary = t_salary\n",
    "    def data(self):\n",
    "        print('The name of teacher is:',self.t_name) # Using this 'self' here, we can refer current object.\n",
    "        print('The age of teacher is:',self.t_age)\n",
    "        print('The salary of teacher is:',self.t_salary)\n",
    "        \n",
    "t_1 = Teacher('Arvind',48,72000)\n",
    "t_2 = Teacher('Modi',78,100000)\n",
    "\n",
    "print(t_1.data())\n",
    "print('\\n')\n",
    "print(t_2.data())\n",
    "\n",
    "# Within the class, to refer the object, self is required."
   ]
  },
  {
   "cell_type": "markdown",
   "metadata": {},
   "source": [
    "\n",
    "## Constructor:\n",
    "-  The name should be always **'_ _ init _ _()'**\n",
    "- Whenever we create an object, constructor will be executed automatically.\n",
    "- The main purpose is to declare and initialize variables.\n",
    "- For every object constructor will execute only once."
   ]
  },
  {
   "cell_type": "markdown",
   "metadata": {},
   "source": [
    "# Variables in Python class:\n",
    "- Instance variables/ Object level variables:\n",
    "   - If the values of variables varies from object to object.\n",
    "   - Instance variables are declared inside the constructor\n",
    "   - Variables which are declared using 'self'.\n",
    "- Static variables/Class level variables:\n",
    "    - Variables which are declared within a class directly\n",
    "- Local variables/Method variables:\n",
    "    - Variables which are declared inside a method or inside a constructor for temporary requirement purpose.\n",
    "\n",
    "# Methods in Python class:\n",
    "- Instance methods/Object related methods:\n",
    "   - The methods where we use instance variables.\n",
    "- Class methods\n",
    "  - If we need to access class level variable, class method is used.\n",
    "  - **@classmethod** is a class method decorator. It should be mentioned compulsorily before defining the class method.\n",
    "- Static methods\n"
   ]
  },
  {
   "cell_type": "markdown",
   "metadata": {},
   "source": [
    "### Example for Class methods."
   ]
  },
  {
   "cell_type": "code",
   "execution_count": 11,
   "metadata": {},
   "outputs": [
    {
     "name": "stdout",
     "output_type": "stream",
     "text": [
      "College Name is: My College\n"
     ]
    }
   ],
   "source": [
    "class Teacher:\n",
    "    cname = 'My College'\n",
    "    def __init__(self, t_name, t_age, t_salary):\n",
    "        self.t_name = t_name\n",
    "        self.t_age =t_age\n",
    "        self.t_salary = t_salary\n",
    "    def data(self):\n",
    "        print('The name of teacher is:',self.t_name) \n",
    "        print('The age of teacher is:',self.t_age)\n",
    "        print('The salary of teacher is:',self.t_salary)\n",
    "    \n",
    "    @classmethod # this is class method decorator.\n",
    "    def getCollegeName(cls):# Here cls means 'Current Class Level Object'\n",
    "        print('College Name is:',cls.cname)\n",
    "        \n",
    "# Similar to self, if we need to access the class level data, cls variable is used.    \n",
    "\n",
    "# To obtain the class method.\n",
    "Teacher.getCollegeName()\n",
    "\n",
    "s1= Teacher('ahmed',26,80000)"
   ]
  },
  {
   "cell_type": "markdown",
   "metadata": {},
   "source": [
    "### Static Methods.\n"
   ]
  },
  {
   "cell_type": "code",
   "execution_count": 12,
   "metadata": {},
   "outputs": [],
   "source": [
    "@staticmethod\n",
    "def findAverage(x,y):\n",
    "    print('Average',(x+y)/2)"
   ]
  },
  {
   "cell_type": "markdown",
   "metadata": {},
   "source": [
    "### Basic Example for Static Method."
   ]
  },
  {
   "cell_type": "code",
   "execution_count": 13,
   "metadata": {},
   "outputs": [
    {
     "name": "stdout",
     "output_type": "stream",
     "text": [
      "College Name is: My College\n",
      "None\n",
      "Average 25.0\n"
     ]
    }
   ],
   "source": [
    "class Teacher:\n",
    "    cname = 'My College'\n",
    "    def __init__(self, t_name, t_age, t_salary):\n",
    "        self.t_name = t_name\n",
    "        self.t_age =t_age\n",
    "        self.t_salary = t_salary\n",
    "    def data(self):\n",
    "        print('The name of teacher is:',self.t_name) \n",
    "        print('The age of teacher is:',self.t_age)\n",
    "        print('The salary of teacher is:',self.t_salary)\n",
    "    \n",
    "    @classmethod # this is class method decorator.\n",
    "    def getCollegeName(cls):# Here cls means 'Current Class Level Object'\n",
    "        print('College Name is:',cls.cname)\n",
    "        \n",
    "# Similar to self, if we need to access the class level data, cls variable is used.    \n",
    "    @staticmethod\n",
    "    def findAverage(x,y):\n",
    "        print('Average',(x+y)/2)\n",
    "# For Static method there will be no 'cls'  or 'self' method.\n",
    "s1= Teacher('ahmed',26,80000)\n",
    "        \n",
    "        \n",
    "# To obtain the class method.\n",
    "print(Teacher.getCollegeName())\n",
    "\n",
    "# Accessing with the help of class name.\n",
    "s1.findAverage(20,30)"
   ]
  },
  {
   "cell_type": "markdown",
   "metadata": {},
   "source": [
    "## Instance variables.\n",
    "- If the value of a variable is varied from object to object, such type of variables are called as Instance variables.\n",
    "- Instance Variables varies from object to object.\n",
    "\n",
    "### Declaration of Instance variable.\n",
    "- Inside constructor with the help of **self**. (Eg- self.name;self.age etc)\n",
    "- Inside instance method using **self**.\n",
    "- From outside the class using **object reference**"
   ]
  },
  {
   "cell_type": "markdown",
   "metadata": {},
   "source": [
    "### Example :1"
   ]
  },
  {
   "cell_type": "code",
   "execution_count": 14,
   "metadata": {},
   "outputs": [],
   "source": [
    "class Student:\n",
    "    def __init__(self, name, rollno):\n",
    "        self.name = name\n",
    "        self.rollno=rollno\n",
    "s1= Student('Amit',200)\n",
    "s2= Student('Rahul',250)\n",
    "s3= Student('Modi',300)"
   ]
  },
  {
   "cell_type": "markdown",
   "metadata": {},
   "source": [
    "### Example :2"
   ]
  },
  {
   "cell_type": "code",
   "execution_count": 15,
   "metadata": {},
   "outputs": [
    {
     "name": "stdout",
     "output_type": "stream",
     "text": [
      "{'name': 'Amit', 'rollno': 200}\n"
     ]
    }
   ],
   "source": [
    "class Student:\n",
    "    def __init__(self, name, rollno):\n",
    "        self.name = name\n",
    "        self.rollno=rollno\n",
    "    def info(self):\n",
    "        self.marks=60 # Instance variable.\n",
    "\n",
    "s1= Student('Amit',200)\n",
    "s2= Student('Rahul',250)\n",
    "s3= Student('Modi',300)\n",
    "\n",
    "# To check the instance variables declared in the class.\n",
    "print(s1.__dict__)\n",
    "\n",
    "# Dict means dictionary i.e object related dictionary."
   ]
  },
  {
   "cell_type": "code",
   "execution_count": 16,
   "metadata": {},
   "outputs": [
    {
     "name": "stdout",
     "output_type": "stream",
     "text": [
      "{'name': 'Amit', 'rollno': 200, 'marks': 60}\n"
     ]
    }
   ],
   "source": [
    "# Adding 3rd instance variable using info() method\n",
    "s1.info()\n",
    "\n",
    "# To check the instance variables present.\n",
    "print(s1.__dict__)"
   ]
  },
  {
   "cell_type": "markdown",
   "metadata": {},
   "source": [
    "### Example :3"
   ]
  },
  {
   "cell_type": "code",
   "execution_count": 17,
   "metadata": {},
   "outputs": [
    {
     "name": "stdout",
     "output_type": "stream",
     "text": [
      "{'name': 'Amit', 'rollno': 200, 'marks': 60, 'age': 25}\n"
     ]
    }
   ],
   "source": [
    "class Student:\n",
    "    def __init__(self, name, rollno):\n",
    "        self.name = name\n",
    "        self.rollno=rollno\n",
    "    def info(self):\n",
    "        self.marks=60 # Instance variable.\n",
    "\n",
    "s1= Student('Amit',200)\n",
    "s1.info()\n",
    "\n",
    "# Adding instance variable using object reference(age)\n",
    "s1.age = 25\n",
    "\n",
    "print(s1.__dict__)"
   ]
  },
  {
   "cell_type": "code",
   "execution_count": 18,
   "metadata": {},
   "outputs": [
    {
     "name": "stdout",
     "output_type": "stream",
     "text": [
      "{'name': 'Anil', 'rollno': 105, 'wife': 'Radha'}\n"
     ]
    }
   ],
   "source": [
    "# Creating new object and adding newvariable to it.\n",
    "s2= Student('Anil',105)\n",
    "s2.wife= 'Radha'\n",
    "\n",
    "print(s2.__dict__)"
   ]
  },
  {
   "cell_type": "code",
   "execution_count": 19,
   "metadata": {},
   "outputs": [
    {
     "name": "stdout",
     "output_type": "stream",
     "text": [
      "{'name': 'Amit', 'rollno': 200, 'marks': 60, 'age': 25}\n",
      "{'name': 'Anil', 'rollno': 105, 'wife': 'Radha'}\n"
     ]
    }
   ],
   "source": [
    "# Printing all instances variables.\n",
    "print(s1.__dict__)\n",
    "print(s2.__dict__)"
   ]
  },
  {
   "cell_type": "markdown",
   "metadata": {},
   "source": [
    "#### Examples."
   ]
  },
  {
   "cell_type": "code",
   "execution_count": 20,
   "metadata": {},
   "outputs": [],
   "source": [
    "class Test:\n",
    "    def __init__(self):\n",
    "        self.a=10\n",
    "        self.b=20\n",
    "        self.c=30\n",
    "    def m1(self):\n",
    "        self.d =40\n",
    "    def m2(self):\n",
    "        self.e=50\n",
    "t1= Test()\n",
    "t1.m1()\n",
    "\n",
    "t2=Test()\n",
    "t2.m2()\n",
    "\n",
    "t2.s= 200\n",
    "t2.y=300"
   ]
  },
  {
   "cell_type": "code",
   "execution_count": 21,
   "metadata": {},
   "outputs": [
    {
     "name": "stdout",
     "output_type": "stream",
     "text": [
      "{'a': 10, 'b': 20, 'c': 30, 'd': 40}\n",
      "{'a': 10, 'b': 20, 'c': 30, 'e': 50, 's': 200, 'y': 300}\n"
     ]
    }
   ],
   "source": [
    "print(t1.__dict__)\n",
    "print(t2.__dict__)"
   ]
  },
  {
   "cell_type": "markdown",
   "metadata": {},
   "source": [
    "### Accessing the Instance variables\n",
    "- Can access instance variable with the help of **self**\n",
    "- From outside the class, using object reference."
   ]
  },
  {
   "cell_type": "code",
   "execution_count": 22,
   "metadata": {},
   "outputs": [
    {
     "name": "stdout",
     "output_type": "stream",
     "text": [
      "My name is python\n",
      "My rollno is 28\n"
     ]
    }
   ],
   "source": [
    "class Student:\n",
    "    def __init__(self, name, rollno):\n",
    "        self.name = name\n",
    "        self.rollno=rollno\n",
    "    def display(self):\n",
    "        print('My name is', self.name)\n",
    "        print('My rollno is', self.rollno)\n",
    "s=Student('python',28)\n",
    "s.display()"
   ]
  },
  {
   "cell_type": "code",
   "execution_count": 23,
   "metadata": {},
   "outputs": [
    {
     "name": "stdout",
     "output_type": "stream",
     "text": [
      "python\n",
      "28\n"
     ]
    }
   ],
   "source": [
    "# Using object reference variable.\n",
    "print(s.name)\n",
    "print(s.rollno)"
   ]
  },
  {
   "cell_type": "markdown",
   "metadata": {},
   "source": [
    "### Deleting Instance variables.\n",
    "- Within the class using **del self.variablename**\n",
    "- Outside the class using **del objectreference.variablename **"
   ]
  },
  {
   "cell_type": "markdown",
   "metadata": {},
   "source": [
    "### Examples."
   ]
  },
  {
   "cell_type": "code",
   "execution_count": 24,
   "metadata": {},
   "outputs": [
    {
     "name": "stdout",
     "output_type": "stream",
     "text": [
      "{'a': 10, 'b': 20, 'c': 30}\n"
     ]
    }
   ],
   "source": [
    "class Test:\n",
    "    def __init__(self):\n",
    "        self.a=10\n",
    "        self.b=20\n",
    "        self.c=30\n",
    "    def delete(self): # deleting within the class.\n",
    "        del self.b\n",
    "        del self.c\n",
    "       # or\n",
    "        #del self.b, self,c\n",
    "t1= Test()\n",
    "print(t1.__dict__)"
   ]
  },
  {
   "cell_type": "code",
   "execution_count": 25,
   "metadata": {},
   "outputs": [
    {
     "name": "stdout",
     "output_type": "stream",
     "text": [
      "{'a': 10}\n"
     ]
    }
   ],
   "source": [
    "# After calling delete function, its get deleted.\n",
    "t1.delete()\n",
    "print(t1.__dict__)"
   ]
  },
  {
   "cell_type": "code",
   "execution_count": 26,
   "metadata": {},
   "outputs": [
    {
     "name": "stdout",
     "output_type": "stream",
     "text": [
      "{}\n"
     ]
    }
   ],
   "source": [
    "# Deleting outside of a class\n",
    "del t1.a\n",
    "print(t1.__dict__)"
   ]
  },
  {
   "cell_type": "code",
   "execution_count": 27,
   "metadata": {},
   "outputs": [
    {
     "name": "stdout",
     "output_type": "stream",
     "text": [
      "{'b': 20, 'c': 30}\n",
      "{'a': 10, 'c': 30}\n"
     ]
    }
   ],
   "source": [
    "class Test:\n",
    "    def __init__(self):\n",
    "        self.a=10\n",
    "        self.b=20\n",
    "        self.c=30\n",
    "t1=Test()\n",
    "t2=Test()\n",
    "del t1.a\n",
    "del t2.b\n",
    "print(t1.__dict__)\n",
    "print(t2.__dict__)"
   ]
  },
  {
   "cell_type": "markdown",
   "metadata": {},
   "source": [
    "## Static Variables\n",
    "- Variables which are declared within a class directly\n"
   ]
  },
  {
   "cell_type": "markdown",
   "metadata": {},
   "source": [
    "#### Examples for Static variables."
   ]
  },
  {
   "cell_type": "code",
   "execution_count": 28,
   "metadata": {},
   "outputs": [
    {
     "name": "stdout",
     "output_type": "stream",
     "text": [
      "Python 101 Machine Learning\n",
      "Data 102 Machine Learning\n"
     ]
    }
   ],
   "source": [
    "class Student:\n",
    "    cname='Machine Learning' # This is Static varible declared within a class level.\n",
    "    def __init__(self, name, rollno):\n",
    "        self.name=name\n",
    "        self.rollno=rollno\n",
    "\n",
    "s1=Student('Python',101)\n",
    "s2=Student('Data',102)\n",
    "print(s1.name, s1.rollno, Student.cname)\n",
    "print(s2.name, s2.rollno, s2.cname)"
   ]
  },
  {
   "cell_type": "markdown",
   "metadata": {},
   "source": [
    "### Declaration of Static Variables.\n",
    "- Within the class directly but outside of any method.\n",
    "- Inside constructor by using class name.\n",
    "- Inside instance method by using class name.\n",
    "- Inside class method using **cls variable** or class name.\n",
    "- Inside static method using class name.\n",
    "- Outside the class using class name."
   ]
  },
  {
   "cell_type": "markdown",
   "metadata": {},
   "source": [
    "#### Example for Declaration."
   ]
  },
  {
   "cell_type": "code",
   "execution_count": 29,
   "metadata": {},
   "outputs": [
    {
     "name": "stdout",
     "output_type": "stream",
     "text": [
      "{'__module__': '__main__', 'a': 10, '__init__': <function Test.__init__ at 0x00000264E862F510>, 'm1': <function Test.m1 at 0x00000264E862F400>, 'm2': <staticmethod object at 0x00000264E862E588>, '__dict__': <attribute '__dict__' of 'Test' objects>, '__weakref__': <attribute '__weakref__' of 'Test' objects>, '__doc__': None, 'g': 70}\n"
     ]
    }
   ],
   "source": [
    "class Test:\n",
    "    a=10 #Within the class directly but outside of any method.\n",
    "    def __init__(self):\n",
    "        Test.b=20 #Inside constructor by using class name\n",
    "    def m1(self):\n",
    "        Test.c=30 #Inside instance method by using class name.\n",
    "    \n",
    "    @classmethod\n",
    "    def m2(cls):\n",
    "        cls.d=40 #Inside class method using cls variable or class name.\n",
    "        Test.e=50\n",
    "        \n",
    "    @staticmethod\n",
    "    def m2():\n",
    "        Test.f=60 #Inside static method using class name.\n",
    "    \n",
    "Test.g=70 #Outside the class using class name.\n",
    "print(Test.__dict__)     "
   ]
  },
  {
   "cell_type": "markdown",
   "metadata": {},
   "source": [
    "### Accessing Static Variables.\n",
    "- We can access static variable either by classname or by object reference.\n",
    "- Within the class:\n",
    "  - we can access using classname, self, cls\n",
    "- Outside of the class:\n",
    "  - we can access using object reference, classname"
   ]
  },
  {
   "cell_type": "code",
   "execution_count": 30,
   "metadata": {},
   "outputs": [
    {
     "name": "stdout",
     "output_type": "stream",
     "text": [
      "Inside constructor\n",
      "10\n",
      "10\n",
      "Inside instance method\n",
      "10\n",
      "10\n",
      "Inside class method\n",
      "10\n",
      "10\n",
      "From outside of a class\n",
      "10\n",
      "10\n"
     ]
    }
   ],
   "source": [
    "class Test:\n",
    "    a=10\n",
    "    def __init__(self):\n",
    "        print('Inside constructor')\n",
    "        print(Test.a)\n",
    "        print(self.a)\n",
    "    def m1(self):\n",
    "        print('Inside instance method')\n",
    "        print(Test.a)\n",
    "        print(self.a)\n",
    "        \n",
    "    @classmethod\n",
    "    def m2(cls):\n",
    "        print('Inside class method')\n",
    "        print(Test.a)\n",
    "        print(cls.a) # cls is current class object.\n",
    "        \n",
    "    @staticmethod\n",
    "    def m3():\n",
    "        print('Inside static method')\n",
    "        print(Test.a)\n",
    "t=Test()\n",
    "t.m1()\n",
    "t.m2()\n",
    "\n",
    "print('From outside of a class')\n",
    "print(Test.a)\n",
    "print(t.a)"
   ]
  },
  {
   "cell_type": "markdown",
   "metadata": {},
   "source": [
    "### Modifying Static Variables.\n",
    "- Within the class:\n",
    "  - Should use classname, cls variable\n",
    "  \n",
    "- From outside the class we can only modify using classname."
   ]
  },
  {
   "cell_type": "code",
   "execution_count": 31,
   "metadata": {},
   "outputs": [
    {
     "name": "stdout",
     "output_type": "stream",
     "text": [
      "20\n"
     ]
    }
   ],
   "source": [
    "class Test:\n",
    "    a=10\n",
    "    def __init__(self):\n",
    "        Test.a=20 # Here if we use 'self.a=20'; then new instance variable will be created instead of static variable.\n",
    "    \n",
    "t=Test()\n",
    "print(Test.a)"
   ]
  },
  {
   "cell_type": "code",
   "execution_count": 32,
   "metadata": {},
   "outputs": [
    {
     "name": "stdout",
     "output_type": "stream",
     "text": [
      "20\n",
      "20\n"
     ]
    }
   ],
   "source": [
    "print(Test.a)\n",
    "print(t.a)"
   ]
  },
  {
   "cell_type": "code",
   "execution_count": 33,
   "metadata": {},
   "outputs": [
    {
     "name": "stdout",
     "output_type": "stream",
     "text": [
      "30\n",
      "30\n"
     ]
    }
   ],
   "source": [
    "# Modifying outside classname.\n",
    "class Test:\n",
    "    a=10\n",
    "    def __init__(self):\n",
    "        Test.a=20\n",
    "    @classmethod\n",
    "    def m1(cls):\n",
    "        cls.a=30\n",
    "        #Test.a=40\n",
    "t=Test()\n",
    "t.m1()\n",
    "print(Test.a)\n",
    "print(t.a)"
   ]
  },
  {
   "cell_type": "code",
   "execution_count": 34,
   "metadata": {},
   "outputs": [
    {
     "name": "stdout",
     "output_type": "stream",
     "text": [
      "40\n",
      "40\n"
     ]
    }
   ],
   "source": [
    "class Test:\n",
    "    a=10\n",
    "    def __init__(self):\n",
    "        Test.a=20\n",
    "    @classmethod\n",
    "    def m1(cls):\n",
    "        cls.a=30 # Modifying using class method.\n",
    "        Test.a=40\n",
    "t=Test()\n",
    "t.m1()\n",
    "print(Test.a)\n",
    "print(t.a)"
   ]
  },
  {
   "cell_type": "code",
   "execution_count": 35,
   "metadata": {},
   "outputs": [
    {
     "name": "stdout",
     "output_type": "stream",
     "text": [
      "50\n",
      "50\n"
     ]
    }
   ],
   "source": [
    "# Modifying using Static method.\n",
    "class Test:\n",
    "    a=10\n",
    "    def __init__(self):\n",
    "        Test.a=20\n",
    "    @classmethod\n",
    "    def m1(cls):\n",
    "        cls.a=30\n",
    "        Test.a=40\n",
    "    @staticmethod\n",
    "    def m2():\n",
    "        Test.a=50 # Modifying using static method.\n",
    "        \n",
    "t=Test()\n",
    "t.m2()\n",
    "print(Test.a)\n",
    "print(t.a)"
   ]
  },
  {
   "cell_type": "code",
   "execution_count": 36,
   "metadata": {},
   "outputs": [
    {
     "name": "stdout",
     "output_type": "stream",
     "text": [
      "60\n",
      "60\n"
     ]
    }
   ],
   "source": [
    "# Modifying outside of the class.\n",
    "class Test:\n",
    "    a=10\n",
    "    def __init__(self):\n",
    "        Test.a=20\n",
    "    @classmethod\n",
    "    def m1(cls):\n",
    "        cls.a=30 \n",
    "        Test.a=40\n",
    "    @staticmethod\n",
    "    def m2():\n",
    "        Test.a=50\n",
    "        \n",
    "t=Test()\n",
    "t.m1()\n",
    "t.m2()\n",
    "Test.a=60 # Modifying from outside the class\n",
    "print(Test.a)\n",
    "print(t.a)"
   ]
  },
  {
   "cell_type": "markdown",
   "metadata": {},
   "source": [
    "### Deleting the static Variables.\n",
    "- Within the class:\n",
    "  - Should use classname, cls variable\n",
    "- Outside the class only using classname"
   ]
  },
  {
   "cell_type": "markdown",
   "metadata": {},
   "source": [
    "### Examples."
   ]
  },
  {
   "cell_type": "code",
   "execution_count": 37,
   "metadata": {},
   "outputs": [
    {
     "name": "stdout",
     "output_type": "stream",
     "text": [
      "{'__module__': '__main__', 'a': 10, '__init__': <function Test.__init__ at 0x00000264E8626598>, '__dict__': <attribute '__dict__' of 'Test' objects>, '__weakref__': <attribute '__weakref__' of 'Test' objects>, '__doc__': None}\n",
      "{'__module__': '__main__', '__init__': <function Test.__init__ at 0x00000264E8626598>, '__dict__': <attribute '__dict__' of 'Test' objects>, '__weakref__': <attribute '__weakref__' of 'Test' objects>, '__doc__': None}\n"
     ]
    }
   ],
   "source": [
    "class Test:\n",
    "    a=10\n",
    "    def __init__(self):\n",
    "        del Test.a\n",
    "print(Test.__dict__) # Before object Creation\n",
    "t=Test()\n",
    "print(Test.__dict__) # After object Creation "
   ]
  },
  {
   "cell_type": "code",
   "execution_count": 38,
   "metadata": {},
   "outputs": [
    {
     "name": "stdout",
     "output_type": "stream",
     "text": [
      "{'__module__': '__main__', 'a': 10, 'm1': <function Test.m1 at 0x00000264E8626488>, '__dict__': <attribute '__dict__' of 'Test' objects>, '__weakref__': <attribute '__weakref__' of 'Test' objects>, '__doc__': None}\n"
     ]
    }
   ],
   "source": [
    "class Test():\n",
    "    a=10\n",
    "    def m1(self):\n",
    "        del cls.a\n",
    "print(Test.__dict__)"
   ]
  },
  {
   "cell_type": "code",
   "execution_count": 39,
   "metadata": {},
   "outputs": [
    {
     "name": "stdout",
     "output_type": "stream",
     "text": [
      "{'__module__': '__main__', '__dict__': <attribute '__dict__' of 'Test' objects>, '__weakref__': <attribute '__weakref__' of 'Test' objects>, '__doc__': None}\n"
     ]
    }
   ],
   "source": [
    "class Test:\n",
    "    a=10\n",
    "    \n",
    "t=Test()\n",
    "del Test.a\n",
    "print(Test.__dict__)"
   ]
  },
  {
   "cell_type": "markdown",
   "metadata": {},
   "source": [
    "### More Examples for Interview"
   ]
  },
  {
   "cell_type": "code",
   "execution_count": 40,
   "metadata": {},
   "outputs": [
    {
     "name": "stdout",
     "output_type": "stream",
     "text": [
      "10\n",
      "888\n"
     ]
    }
   ],
   "source": [
    "class Test:\n",
    "    a=10\n",
    "    def m1(self):\n",
    "        self.a=888\n",
    "t=Test()\n",
    "t.m1()\n",
    "print(Test.a)\n",
    "print(t.a)"
   ]
  },
  {
   "cell_type": "code",
   "execution_count": 41,
   "metadata": {},
   "outputs": [
    {
     "name": "stdout",
     "output_type": "stream",
     "text": [
      "888 999\n"
     ]
    }
   ],
   "source": [
    "class Test:\n",
    "    x=10\n",
    "    def m1(self):\n",
    "        self.y=20\n",
    "        \n",
    "t1=Test()\n",
    "t2=Test()\n",
    "t1.x=888\n",
    "t1.y=999\n",
    "print(t1.x,t1.y)\n",
    "#print(t2.x,t2.y)  ERROR---> 'Test' object has no attribute 'y'"
   ]
  },
  {
   "cell_type": "code",
   "execution_count": 42,
   "metadata": {},
   "outputs": [
    {
     "name": "stdout",
     "output_type": "stream",
     "text": [
      "888 999\n",
      "10 20\n"
     ]
    }
   ],
   "source": [
    "class Test:\n",
    "    x=10\n",
    "    def __init__(self): # Creating Constructor.\n",
    "        self.y=20\n",
    "        \n",
    "t1=Test()\n",
    "t2=Test()\n",
    "t1.x=888 # Modifying the object reference\n",
    "t1.y=999 # Modifying the object reference\n",
    "print(t1.x,t1.y)\n",
    "print(t2.x,t2.y)"
   ]
  },
  {
   "cell_type": "code",
   "execution_count": 43,
   "metadata": {},
   "outputs": [
    {
     "name": "stdout",
     "output_type": "stream",
     "text": [
      "888 999\n",
      "888 20\n"
     ]
    }
   ],
   "source": [
    "class Test:\n",
    "    x=10\n",
    "    def __init__(self):\n",
    "        self.y=20\n",
    "        \n",
    "t1=Test()\n",
    "t2=Test()\n",
    "Test.x=888\n",
    "t1.y=999\n",
    "print(t1.x,t1.y)\n",
    "print(t2.x,t2.y)"
   ]
  },
  {
   "cell_type": "code",
   "execution_count": 44,
   "metadata": {},
   "outputs": [
    {
     "name": "stdout",
     "output_type": "stream",
     "text": [
      "25.0\n"
     ]
    }
   ],
   "source": [
    "# To print average of those numbers in list.\n",
    "class Test:\n",
    "    def average(self,lists):\n",
    "        result=sum(lists)/len(lists) # This is Local Variable\n",
    "        print(result)\n",
    "        \n",
    "t=Test()\n",
    "t.average([10,20,30,40])"
   ]
  },
  {
   "cell_type": "markdown",
   "metadata": {},
   "source": [
    "### Global Variables with respect to class."
   ]
  },
  {
   "cell_type": "markdown",
   "metadata": {},
   "source": [
    "#### Local Variables:\n",
    "- Method level variables\n",
    "- Variables which are not used using self, cls, classname\n",
    "\n",
    "\n",
    "#### Global Variables:\n",
    "- From the class we can access glabal variables directly\n",
    "- Within the method of a class we can declare global variables by using a global keyword."
   ]
  },
  {
   "cell_type": "code",
   "execution_count": 45,
   "metadata": {},
   "outputs": [
    {
     "name": "stdout",
     "output_type": "stream",
     "text": [
      "100\n",
      "100\n"
     ]
    }
   ],
   "source": [
    "# Accessing Global variable within the class.\n",
    "x=100 # Global Variables.\n",
    "class Test:\n",
    "    def m1(self):\n",
    "        print(x)\n",
    "    \n",
    "    def m2(self):\n",
    "        print(x)\n",
    "        \n",
    "t=Test()\n",
    "t.m1()\n",
    "t.m2()"
   ]
  },
  {
   "cell_type": "code",
   "execution_count": 46,
   "metadata": {},
   "outputs": [
    {
     "name": "stdout",
     "output_type": "stream",
     "text": [
      "888\n"
     ]
    }
   ],
   "source": [
    "# If class is also having same vaiable.\n",
    "x=100 # Global Variables.\n",
    "class Test:\n",
    "    x=777\n",
    "    def m1(self):\n",
    "        x=888 # Local variable\n",
    "        print(x)\n",
    "        #print(self.x)\n",
    "    \n",
    "    def m2(self):\n",
    "        print(x)\n",
    "        print(Test.x)\n",
    "        \n",
    "t=Test()\n",
    "t.m1()"
   ]
  },
  {
   "cell_type": "code",
   "execution_count": 47,
   "metadata": {},
   "outputs": [
    {
     "name": "stdout",
     "output_type": "stream",
     "text": [
      "888\n",
      "888\n",
      "888\n"
     ]
    }
   ],
   "source": [
    "# Declaring Global varibale inside a class.\n",
    "\n",
    "class Test:\n",
    "    def m1(self):\n",
    "        global x # Declaring Global varibale inside a class.\n",
    "        x=888 # Local variable\n",
    "        print(x)\n",
    "        \n",
    "    \n",
    "    def m2(self):\n",
    "        print(x)\n",
    "        \n",
    "        \n",
    "t=Test()\n",
    "t.m1()\n",
    "t.m2()\n",
    "print(x)"
   ]
  },
  {
   "cell_type": "code",
   "execution_count": 48,
   "metadata": {},
   "outputs": [
    {
     "name": "stdout",
     "output_type": "stream",
     "text": [
      "777\n",
      "777\n",
      "777\n"
     ]
    }
   ],
   "source": [
    "class Test:\n",
    "    global x\n",
    "    x=777\n",
    "    \n",
    "    def m1(self):\n",
    "        print(x)\n",
    "    def m2(self):\n",
    "        print(x)\n",
    "        \n",
    "t=Test()\n",
    "t.m1()\n",
    "t.m2()\n",
    "print(x)"
   ]
  },
  {
   "cell_type": "markdown",
   "metadata": {},
   "source": [
    "## Bank Related Application"
   ]
  },
  {
   "cell_type": "code",
   "execution_count": 49,
   "metadata": {},
   "outputs": [
    {
     "name": "stdout",
     "output_type": "stream",
     "text": [
      "Welcome to Machine_Learning Finance\n",
      "Enter Your Name:Farooq\n",
      "d-deposit\n",
      "w-withdraw\n",
      "e-Exit\n",
      "Choose Your Option:d\n",
      "Enter the amount to deposit:50000\n",
      "After deposit the balance is 50000.0\n",
      "d-deposit\n",
      "w-withdraw\n",
      "e-Exit\n",
      "Choose Your Option:w\n",
      "Enter the amount to withdraw:15000\n",
      "After withdrawl the remaining balance amount is 35000.0\n",
      "d-deposit\n",
      "w-withdraw\n",
      "e-Exit\n",
      "Choose Your Option:w\n",
      "Enter the amount to withdraw:40000\n",
      "Insufficient Funds....cannot perform operations\n"
     ]
    },
    {
     "ename": "SystemExit",
     "evalue": "",
     "output_type": "error",
     "traceback": [
      "An exception has occurred, use %tb to see the full traceback.\n",
      "\u001b[1;31mSystemExit\u001b[0m\n"
     ]
    },
    {
     "name": "stderr",
     "output_type": "stream",
     "text": [
      "C:\\ProgramData\\Anaconda3\\lib\\site-packages\\IPython\\core\\interactiveshell.py:2971: UserWarning: To exit: use 'exit', 'quit', or Ctrl-D.\n",
      "  warn(\"To exit: use 'exit', 'quit', or Ctrl-D.\", stacklevel=1)\n"
     ]
    }
   ],
   "source": [
    "import sys\n",
    "class Customer:\n",
    "    '''Customer class with Bank related operations'''\n",
    "    bankname='Machine_Learning Finance' # This will be static varible since its same for all customers.\n",
    "    \n",
    "    def __init__(self, name, balance=0):\n",
    "        self.name=name\n",
    "        self.balance=balance\n",
    "        \n",
    "    def deposit(self,amt):\n",
    "        self.balance=self.balance+amt\n",
    "        print('After deposit the balance is', self.balance)\n",
    "    \n",
    "    def withdraw(self,amt):\n",
    "        if amt>self.balance:\n",
    "            print('Insufficient Funds....cannot perform operations')\n",
    "            sys.exit() #python virtual machine stops.\n",
    "        self.balance=self.balance-amt\n",
    "        print('After withdrawl the remaining balance amount is', self.balance)\n",
    "\n",
    "print('Welcome to', Customer.bankname)\n",
    "name=input('Enter Your Name:')\n",
    "c=Customer(name)\n",
    "while True:\n",
    "    print('d-deposit\\nw-withdraw\\ne-Exit')\n",
    "    option=input('Choose Your Option:')\n",
    "    if option=='d' or option=='D':\n",
    "        amt=float(input('Enter the amount to deposit:'))\n",
    "        c.deposit(amt)\n",
    "        \n",
    "    elif option=='w' or option=='W':\n",
    "        amt=float(input('Enter the amount to withdraw:'))\n",
    "        c.withdraw(amt)\n",
    "        \n",
    "    elif option=='e'or option =='E':\n",
    "        print('Thanks for Banking with us')\n",
    "        sys.exit()\n",
    "        \n",
    "    else:\n",
    "        print('Choose valid option')"
   ]
  },
  {
   "cell_type": "code",
   "execution_count": 50,
   "metadata": {},
   "outputs": [
    {
     "name": "stdout",
     "output_type": "stream",
     "text": [
      "Enter the number of Students:5\n",
      "Enter Student Name:Ahmed\n",
      "Enter Student Marks:95\n",
      "The name of student is: Ahmed\n",
      "My marks are: 95\n",
      "First grade\n",
      "********************\n",
      "Enter Student Name:Ahmed\n",
      "Enter Student Marks:52\n",
      "The name of student is: Ahmed\n",
      "My marks are: 52\n",
      "Second grade\n",
      "********************\n",
      "Enter Student Name:Sid\n",
      "Enter Student Marks:48\n",
      "The name of student is: Sid\n",
      "My marks are: 48\n",
      "You achieved Third grade\n",
      "********************\n",
      "Enter Student Name:Amit\n",
      "Enter Student Marks:28\n",
      "The name of student is: Amit\n",
      "My marks are: 28\n",
      "You have Failed\n",
      "********************\n",
      "Enter Student Name:Rahul\n",
      "Enter Student Marks:38\n",
      "The name of student is: Rahul\n",
      "My marks are: 38\n",
      "You achieved Third grade\n",
      "********************\n"
     ]
    }
   ],
   "source": [
    "class Student:\n",
    "    \n",
    "    def __init__(self, name, marks):\n",
    "        self.name=name\n",
    "        self.marks=marks\n",
    "    \n",
    "    def display(self):\n",
    "        print('The name of student is:', self.name)\n",
    "        print('My marks are:', self.marks)\n",
    "    \n",
    "    def grade(self):\n",
    "        if self.marks>=60:\n",
    "            print(\"First grade\")\n",
    "        elif self.marks>=50:\n",
    "            print('Second grade')\n",
    "        elif self.marks>=35:\n",
    "            print('You achieved Third grade')\n",
    "        else:\n",
    "            print('You have Failed')\n",
    "            \n",
    "n=int(input(\"Enter the number of Students:\"))\n",
    "for i in range(n):\n",
    "    name = input(\"Enter Student Name:\")\n",
    "    marks = int(input(\"Enter Student Marks:\"))\n",
    "    s=Student(name, marks) # Creating object i.e calling a constructor with name and marks.\n",
    "    s.display()\n",
    "    s.grade()\n",
    "    print('*'*30)"
   ]
  },
  {
   "cell_type": "code",
   "execution_count": null,
   "metadata": {},
   "outputs": [],
   "source": []
  }
 ],
 "metadata": {
  "kernelspec": {
   "display_name": "Python 3",
   "language": "python",
   "name": "python3"
  },
  "language_info": {
   "codemirror_mode": {
    "name": "ipython",
    "version": 3
   },
   "file_extension": ".py",
   "mimetype": "text/x-python",
   "name": "python",
   "nbconvert_exporter": "python",
   "pygments_lexer": "ipython3",
   "version": "3.6.5"
  }
 },
 "nbformat": 4,
 "nbformat_minor": 2
}
